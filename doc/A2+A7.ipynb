{
 "cells": [
  {
   "cell_type": "markdown",
   "id": "3f3e2118",
   "metadata": {},
   "source": [
    "# ADS Project 4: Machine Learning Fairness\n",
    "## Spring 2022"
   ]
  },
  {
   "cell_type": "markdown",
   "id": "c4d8503c",
   "metadata": {},
   "source": [
    "Chang Lu, Jiaxin Yu, Marcus Loke, Xiran Lin, Zaigham Khan"
   ]
  },
  {
   "cell_type": "markdown",
   "id": "d45e331e",
   "metadata": {},
   "source": [
    "## Overview"
   ]
  },
  {
   "cell_type": "markdown",
   "id": "0c8b865a",
   "metadata": {},
   "source": [
    "+ The cleaned COMPAS dataset is provided in `../output/compas-scores-two-years(cleaned).csv`. The EDA and cleaning process is described in `../doc/eda_cleaning.html` and `eda_cleaning.Rmd`.\n",
    "\n",
    "\n",
    "+ Our team focused on three algorithms aimed at ensuring machine learning fairness. The algorithms are: maximizing accuracy under fairness constraints using C-LR and C-SVM (A2) and information theoretic measures for fairness-aware feature selection (FFS) (A7)."
   ]
  },
  {
   "cell_type": "markdown",
   "id": "645344a2",
   "metadata": {},
   "source": [
    "## Load modules and data"
   ]
  },
  {
   "cell_type": "code",
   "execution_count": 1,
   "id": "4e291cb7",
   "metadata": {},
   "outputs": [],
   "source": [
    "import os, sys\n",
    "import numpy as np\n",
    "import pandas as pd\n",
    "import utils as ut\n",
    "import loss_funcs as lf\n",
    "from sklearn.model_selection import train_test_split\n",
    "from sklearn.linear_model import LogisticRegression\n",
    "from sklearn.utils import shuffle\n",
    "from sklearn.metrics import log_loss"
   ]
  },
  {
   "cell_type": "code",
   "execution_count": 2,
   "id": "1e3e2668",
   "metadata": {},
   "outputs": [
    {
     "data": {
      "text/html": [
       "<div>\n",
       "<style scoped>\n",
       "    .dataframe tbody tr th:only-of-type {\n",
       "        vertical-align: middle;\n",
       "    }\n",
       "\n",
       "    .dataframe tbody tr th {\n",
       "        vertical-align: top;\n",
       "    }\n",
       "\n",
       "    .dataframe thead th {\n",
       "        text-align: right;\n",
       "    }\n",
       "</style>\n",
       "<table border=\"1\" class=\"dataframe\">\n",
       "  <thead>\n",
       "    <tr style=\"text-align: right;\">\n",
       "      <th></th>\n",
       "      <th>sex</th>\n",
       "      <th>age_cat</th>\n",
       "      <th>race</th>\n",
       "      <th>priors_count</th>\n",
       "      <th>c_charge_degree</th>\n",
       "      <th>length_of_stay</th>\n",
       "      <th>two_year_recid</th>\n",
       "    </tr>\n",
       "  </thead>\n",
       "  <tbody>\n",
       "    <tr>\n",
       "      <th>0</th>\n",
       "      <td>Male</td>\n",
       "      <td>25 - 45</td>\n",
       "      <td>African-American</td>\n",
       "      <td>-0.733607</td>\n",
       "      <td>F</td>\n",
       "      <td>-0.177294</td>\n",
       "      <td>1</td>\n",
       "    </tr>\n",
       "    <tr>\n",
       "      <th>1</th>\n",
       "      <td>Male</td>\n",
       "      <td>&lt; 25</td>\n",
       "      <td>African-American</td>\n",
       "      <td>0.055928</td>\n",
       "      <td>F</td>\n",
       "      <td>-0.350235</td>\n",
       "      <td>1</td>\n",
       "    </tr>\n",
       "    <tr>\n",
       "      <th>2</th>\n",
       "      <td>Male</td>\n",
       "      <td>25 - 45</td>\n",
       "      <td>Caucasian</td>\n",
       "      <td>2.029767</td>\n",
       "      <td>F</td>\n",
       "      <td>-0.254156</td>\n",
       "      <td>1</td>\n",
       "    </tr>\n",
       "    <tr>\n",
       "      <th>3</th>\n",
       "      <td>Female</td>\n",
       "      <td>25 - 45</td>\n",
       "      <td>Caucasian</td>\n",
       "      <td>-0.733607</td>\n",
       "      <td>M</td>\n",
       "      <td>-0.311803</td>\n",
       "      <td>0</td>\n",
       "    </tr>\n",
       "    <tr>\n",
       "      <th>4</th>\n",
       "      <td>Male</td>\n",
       "      <td>&lt; 25</td>\n",
       "      <td>Caucasian</td>\n",
       "      <td>-0.536224</td>\n",
       "      <td>F</td>\n",
       "      <td>-0.350235</td>\n",
       "      <td>1</td>\n",
       "    </tr>\n",
       "  </tbody>\n",
       "</table>\n",
       "</div>"
      ],
      "text/plain": [
       "      sex  age_cat              race  priors_count c_charge_degree  \\\n",
       "0    Male  25 - 45  African-American     -0.733607               F   \n",
       "1    Male     < 25  African-American      0.055928               F   \n",
       "2    Male  25 - 45         Caucasian      2.029767               F   \n",
       "3  Female  25 - 45         Caucasian     -0.733607               M   \n",
       "4    Male     < 25         Caucasian     -0.536224               F   \n",
       "\n",
       "   length_of_stay  two_year_recid  \n",
       "0       -0.177294               1  \n",
       "1       -0.350235               1  \n",
       "2       -0.254156               1  \n",
       "3       -0.311803               0  \n",
       "4       -0.350235               1  "
      ]
     },
     "execution_count": 2,
     "metadata": {},
     "output_type": "execute_result"
    }
   ],
   "source": [
    "df = pd.read_csv('../output/compas-scores-two-years(cleaned).csv')\n",
    "df.head()"
   ]
  },
  {
   "cell_type": "markdown",
   "id": "c11af853",
   "metadata": {},
   "source": [
    "Encode categorical variables with dummy variables:\n",
    "+ `sex`: 1 for male and 0 for female\n",
    "+ `age_cat`: 2 for > 45, 1 for 25 - 45 and 0 for < 25\n",
    "+ `race`: 1 for caucasian and 0 for african-american\n",
    "+ `c_charge_degree`: 1 for F and 0 for M"
   ]
  },
  {
   "cell_type": "code",
   "execution_count": 3,
   "id": "6d51b0cd",
   "metadata": {},
   "outputs": [
    {
     "data": {
      "text/html": [
       "<div>\n",
       "<style scoped>\n",
       "    .dataframe tbody tr th:only-of-type {\n",
       "        vertical-align: middle;\n",
       "    }\n",
       "\n",
       "    .dataframe tbody tr th {\n",
       "        vertical-align: top;\n",
       "    }\n",
       "\n",
       "    .dataframe thead th {\n",
       "        text-align: right;\n",
       "    }\n",
       "</style>\n",
       "<table border=\"1\" class=\"dataframe\">\n",
       "  <thead>\n",
       "    <tr style=\"text-align: right;\">\n",
       "      <th></th>\n",
       "      <th>sex</th>\n",
       "      <th>age_cat</th>\n",
       "      <th>race</th>\n",
       "      <th>priors_count</th>\n",
       "      <th>c_charge_degree</th>\n",
       "      <th>length_of_stay</th>\n",
       "      <th>two_year_recid</th>\n",
       "    </tr>\n",
       "  </thead>\n",
       "  <tbody>\n",
       "    <tr>\n",
       "      <th>0</th>\n",
       "      <td>1</td>\n",
       "      <td>1</td>\n",
       "      <td>0</td>\n",
       "      <td>-0.733607</td>\n",
       "      <td>1</td>\n",
       "      <td>-0.177294</td>\n",
       "      <td>1</td>\n",
       "    </tr>\n",
       "    <tr>\n",
       "      <th>1</th>\n",
       "      <td>1</td>\n",
       "      <td>0</td>\n",
       "      <td>0</td>\n",
       "      <td>0.055928</td>\n",
       "      <td>1</td>\n",
       "      <td>-0.350235</td>\n",
       "      <td>1</td>\n",
       "    </tr>\n",
       "    <tr>\n",
       "      <th>2</th>\n",
       "      <td>1</td>\n",
       "      <td>1</td>\n",
       "      <td>1</td>\n",
       "      <td>2.029767</td>\n",
       "      <td>1</td>\n",
       "      <td>-0.254156</td>\n",
       "      <td>1</td>\n",
       "    </tr>\n",
       "    <tr>\n",
       "      <th>3</th>\n",
       "      <td>0</td>\n",
       "      <td>1</td>\n",
       "      <td>1</td>\n",
       "      <td>-0.733607</td>\n",
       "      <td>0</td>\n",
       "      <td>-0.311803</td>\n",
       "      <td>0</td>\n",
       "    </tr>\n",
       "    <tr>\n",
       "      <th>4</th>\n",
       "      <td>1</td>\n",
       "      <td>0</td>\n",
       "      <td>1</td>\n",
       "      <td>-0.536224</td>\n",
       "      <td>1</td>\n",
       "      <td>-0.350235</td>\n",
       "      <td>1</td>\n",
       "    </tr>\n",
       "  </tbody>\n",
       "</table>\n",
       "</div>"
      ],
      "text/plain": [
       "   sex  age_cat  race  priors_count  c_charge_degree  length_of_stay  \\\n",
       "0    1        1     0     -0.733607                1       -0.177294   \n",
       "1    1        0     0      0.055928                1       -0.350235   \n",
       "2    1        1     1      2.029767                1       -0.254156   \n",
       "3    0        1     1     -0.733607                0       -0.311803   \n",
       "4    1        0     1     -0.536224                1       -0.350235   \n",
       "\n",
       "   two_year_recid  \n",
       "0               1  \n",
       "1               1  \n",
       "2               1  \n",
       "3               0  \n",
       "4               1  "
      ]
     },
     "execution_count": 3,
     "metadata": {},
     "output_type": "execute_result"
    }
   ],
   "source": [
    "df['sex'] = df['sex'].apply(lambda sex: 0 if sex == 'Female' else 1)\n",
    "df['age_cat'] = df['age_cat'].apply(lambda age_cat: 2 if age_cat == '> 45' else(1 if age_cat == '25 - 45' else 0))\n",
    "df['race'] = df['race'].apply(lambda race: 0 if race == 'African-American' else 1)\n",
    "df['c_charge_degree'] = df['c_charge_degree'].apply(lambda c_charge_degree: 0 if c_charge_degree == 'M' else 1)\n",
    "df.head()"
   ]
  },
  {
   "cell_type": "markdown",
   "id": "502d1f1c",
   "metadata": {},
   "source": [
    "Create a function to process the data to obtain the target variable, the sensitive attribute and the remaining dataframe with the remaining features. We also perform a shuffle so that we can split the data into train and test sets."
   ]
  },
  {
   "cell_type": "code",
   "execution_count": 4,
   "id": "c24e1311",
   "metadata": {},
   "outputs": [],
   "source": [
    "# Vars to store features\n",
    "features = ['sex', 'age_cat', 'priors_count', 'c_charge_degree', 'length_of_stay']\n",
    "sensitive = 'race'\n",
    "target = 'two_year_recid'\n",
    "\n",
    "# Function to process data\n",
    "def process_df(df):\n",
    "    y_label = df[target]\n",
    "    protected_attr = df[sensitive]\n",
    "    df_new = df[features]\n",
    "    y_label, protected_attr, df_new = shuffle(y_label, protected_attr, df_new, random_state = 617)\n",
    "    \n",
    "    return y_label.to_numpy(), protected_attr.to_numpy(), df_new.to_numpy()\n",
    "\n",
    "# Split data into train and test\n",
    "y_label, protected_attr, df_new =  process_df(df)\n",
    "train_index = int(len(df_new) * 0.7)\n",
    "x_train, y_train, race_train = df_new[:train_index], y_label[:train_index], protected_attr[:train_index]\n",
    "x_test, y_test, race_test = df_new[train_index:], y_label[train_index:],protected_attr[train_index:]"
   ]
  },
  {
   "cell_type": "markdown",
   "id": "a8963532",
   "metadata": {},
   "source": [
    "We also created a function to determine the p-rule (p%).\n",
    "\n",
    "+ **Protected**: Caucasians (i.e., `race == 1`)\n",
    "+ **Not protected**: African-Americans (i.e., `race == 0`)"
   ]
  },
  {
   "cell_type": "code",
   "execution_count": 5,
   "id": "7e2bb50e",
   "metadata": {},
   "outputs": [],
   "source": [
    "# Function to compute p-rule\n",
    "def p_rule(sensitive_var, y_pred):\n",
    "    protected = np.where(sensitive_var == 1)[0]\n",
    "    not_protected = np.where(sensitive_var == 0)[0]\n",
    "    protected_pred = np.where(y_pred[protected] == 1)\n",
    "    not_protected_pred = np.where(y_pred[not_protected] == 1)\n",
    "    protected_percent = protected_pred[0].shape[0]/protected.shape[0]\n",
    "    not_protected_percent = not_protected_pred[0].shape[0]/not_protected.shape[0]\n",
    "    ratio = protected_percent/not_protected_percent\n",
    "    \n",
    "    return ratio, protected_percent, not_protected_percent"
   ]
  },
  {
   "cell_type": "markdown",
   "id": "70568a58",
   "metadata": {},
   "source": [
    "## Logistic Regression"
   ]
  },
  {
   "cell_type": "markdown",
   "id": "62b00da9",
   "metadata": {},
   "source": [
    "### Training unconstrained classifier"
   ]
  },
  {
   "cell_type": "markdown",
   "id": "e004c9fa",
   "metadata": {},
   "source": [
    "Training baseline unconstrained classifier."
   ]
  },
  {
   "cell_type": "code",
   "execution_count": 6,
   "id": "c7d18c24",
   "metadata": {},
   "outputs": [
    {
     "data": {
      "text/html": [
       "<div>\n",
       "<style scoped>\n",
       "    .dataframe tbody tr th:only-of-type {\n",
       "        vertical-align: middle;\n",
       "    }\n",
       "\n",
       "    .dataframe tbody tr th {\n",
       "        vertical-align: top;\n",
       "    }\n",
       "\n",
       "    .dataframe thead th {\n",
       "        text-align: right;\n",
       "    }\n",
       "</style>\n",
       "<table border=\"1\" class=\"dataframe\">\n",
       "  <thead>\n",
       "    <tr style=\"text-align: right;\">\n",
       "      <th></th>\n",
       "      <th>Set</th>\n",
       "      <th>Accuracy (%)</th>\n",
       "      <th>P-rule (%)</th>\n",
       "      <th>Protected (%)</th>\n",
       "      <th>Not protected (%)</th>\n",
       "    </tr>\n",
       "  </thead>\n",
       "  <tbody>\n",
       "    <tr>\n",
       "      <th>0</th>\n",
       "      <td>Train</td>\n",
       "      <td>66.932367</td>\n",
       "      <td>53.771942</td>\n",
       "      <td>29.312425</td>\n",
       "      <td>54.512490</td>\n",
       "    </tr>\n",
       "    <tr>\n",
       "      <th>1</th>\n",
       "      <td>Test</td>\n",
       "      <td>64.957746</td>\n",
       "      <td>61.642720</td>\n",
       "      <td>33.888889</td>\n",
       "      <td>54.976303</td>\n",
       "    </tr>\n",
       "  </tbody>\n",
       "</table>\n",
       "</div>"
      ],
      "text/plain": [
       "     Set  Accuracy (%)  P-rule (%)  Protected (%)  Not protected (%)\n",
       "0  Train     66.932367   53.771942      29.312425          54.512490\n",
       "1   Test     64.957746   61.642720      33.888889          54.976303"
      ]
     },
     "execution_count": 6,
     "metadata": {},
     "output_type": "execute_result"
    }
   ],
   "source": [
    "clf = LogisticRegression(random_state = 0).fit(x_train, y_train)\n",
    "coeff = clf.coef_\n",
    "intercept = clf.intercept_\n",
    "optimal_loss = log_loss(y_train, clf.predict_proba(x_train))\n",
    "print_results = {\"Set\": [\"Train\", \"Test\"],\n",
    "                 \"Accuracy (%)\": [clf.score(x_train, y_train)*100, clf.score(x_test, y_test)*100],\n",
    "                 \"P-rule (%)\": [p_rule(race_train, clf.predict(x_train))[0]*100, p_rule(race_test, clf.predict(x_test))[0]*100],\n",
    "                 \"Protected (%)\": [p_rule(race_train, clf.predict(x_train))[1]*100, p_rule(race_test, clf.predict(x_test))[1]*100],\n",
    "                 \"Not protected (%)\": [p_rule(race_train, clf.predict(x_train))[2]*100, p_rule(race_test, clf.predict(x_test))[2]*100]}\n",
    "pd.DataFrame(print_results)"
   ]
  },
  {
   "cell_type": "markdown",
   "id": "fb1f2cfb",
   "metadata": {},
   "source": [
    "### Optimizing classifier accuracy subject to fairness constraints"
   ]
  },
  {
   "cell_type": "markdown",
   "id": "e75eea19",
   "metadata": {},
   "source": [
    "Now we optimize accuracy subject to fairness constraints. The details can be found in Section 3.2 of the paper on [Fairness Constraints: Mechanisms for Fair Classification](https://arxiv.org/abs/1507.05259). Notice that setting {'race': 0} means that the classifier should achieve 0 covariance between the sensitive feature (`race`) value and distance to the decision boundary. A 0 covariance would mean no correlation between the two variables."
   ]
  },
  {
   "cell_type": "code",
   "execution_count": 7,
   "id": "1bec9dda",
   "metadata": {},
   "outputs": [],
   "source": [
    "apply_fairness_constraints = 1\n",
    "apply_accuracy_constraint = 0\n",
    "sep_constraint = 0\n",
    "gamma = None\n",
    "sensitive_attrs = ['race']\n",
    "sensitive_attrs_to_cov_thresh = {'race': 0}\n",
    "x_control = {'race': race_train}\n",
    "\n",
    "np.random.seed(100)\n",
    "w = ut.train_model(x_train,\n",
    "                y_train,\n",
    "                x_control,\n",
    "                lf._logistic_loss,\n",
    "                apply_fairness_constraints,\n",
    "                apply_accuracy_constraint,\n",
    "                sep_constraint,\n",
    "                sensitive_attrs,\n",
    "                sensitive_attrs_to_cov_thresh,\n",
    "                gamma)"
   ]
  },
  {
   "cell_type": "code",
   "execution_count": 8,
   "id": "4ae25c44",
   "metadata": {},
   "outputs": [],
   "source": [
    "# Fit coefficients/weights into logistic regression in sklearn\n",
    "m = LogisticRegression()\n",
    "m.coef_= w.reshape((1,-1))\n",
    "m.intercept_ = 0\n",
    "m.classes_ = np.array([0, 1])"
   ]
  },
  {
   "cell_type": "code",
   "execution_count": 9,
   "id": "603d611d",
   "metadata": {},
   "outputs": [
    {
     "data": {
      "text/html": [
       "<div>\n",
       "<style scoped>\n",
       "    .dataframe tbody tr th:only-of-type {\n",
       "        vertical-align: middle;\n",
       "    }\n",
       "\n",
       "    .dataframe tbody tr th {\n",
       "        vertical-align: top;\n",
       "    }\n",
       "\n",
       "    .dataframe thead th {\n",
       "        text-align: right;\n",
       "    }\n",
       "</style>\n",
       "<table border=\"1\" class=\"dataframe\">\n",
       "  <thead>\n",
       "    <tr style=\"text-align: right;\">\n",
       "      <th></th>\n",
       "      <th>Set</th>\n",
       "      <th>Accuracy (%)</th>\n",
       "      <th>P-rule (%)</th>\n",
       "      <th>Protected (%)</th>\n",
       "      <th>Not protected (%)</th>\n",
       "    </tr>\n",
       "  </thead>\n",
       "  <tbody>\n",
       "    <tr>\n",
       "      <th>0</th>\n",
       "      <td>Train</td>\n",
       "      <td>48.454106</td>\n",
       "      <td>99.939857</td>\n",
       "      <td>99.819059</td>\n",
       "      <td>99.879130</td>\n",
       "    </tr>\n",
       "    <tr>\n",
       "      <th>1</th>\n",
       "      <td>Test</td>\n",
       "      <td>46.084507</td>\n",
       "      <td>99.955856</td>\n",
       "      <td>99.861111</td>\n",
       "      <td>99.905213</td>\n",
       "    </tr>\n",
       "  </tbody>\n",
       "</table>\n",
       "</div>"
      ],
      "text/plain": [
       "     Set  Accuracy (%)  P-rule (%)  Protected (%)  Not protected (%)\n",
       "0  Train     48.454106   99.939857      99.819059          99.879130\n",
       "1   Test     46.084507   99.955856      99.861111          99.905213"
      ]
     },
     "execution_count": 9,
     "metadata": {},
     "output_type": "execute_result"
    }
   ],
   "source": [
    "print_results_clr = {\"Set\": [\"Train\", \"Test\"],\n",
    "                 \"Accuracy (%)\": [m.score(x_train, y_train)*100, m.score(x_test, y_test)*100],\n",
    "                 \"P-rule (%)\": [p_rule(race_train, m.predict(x_train))[0]*100, p_rule(race_test, m.predict(x_test))[0]*100],\n",
    "                 \"Protected (%)\": [p_rule(race_train, m.predict(x_train))[1]*100, p_rule(race_test, m.predict(x_test))[1]*100],\n",
    "                 \"Not protected (%)\": [p_rule(race_train, m.predict(x_train))[2]*100, p_rule(race_test, m.predict(x_test))[2]*100]}\n",
    "pd.DataFrame(print_results_clr)"
   ]
  },
  {
   "cell_type": "markdown",
   "id": "cd1faac2",
   "metadata": {},
   "source": [
    "## Support Vector Machine (SVM)"
   ]
  },
  {
   "cell_type": "markdown",
   "id": "f6632771",
   "metadata": {},
   "source": [
    "### Training unconstrained classifier"
   ]
  },
  {
   "cell_type": "code",
   "execution_count": 10,
   "id": "af2a19b7",
   "metadata": {},
   "outputs": [],
   "source": [
    "# @Chang, @Jiaxin and @Ryan: Code goes here \n",
    "\n"
   ]
  },
  {
   "cell_type": "markdown",
   "id": "c7d3b47b",
   "metadata": {},
   "source": [
    "### Optimizing classifier accuracy subject to fairness constraints"
   ]
  },
  {
   "cell_type": "code",
   "execution_count": 11,
   "id": "136511ab",
   "metadata": {},
   "outputs": [],
   "source": [
    "# @Chang, @Jiaxin and @Ryan: Code goes here \n",
    "\n"
   ]
  },
  {
   "cell_type": "markdown",
   "id": "e41cfa56",
   "metadata": {},
   "source": [
    "## Information Theoretic Measures for Fairness-aware Feature selection (FFS)"
   ]
  },
  {
   "cell_type": "code",
   "execution_count": 12,
   "id": "0616459d",
   "metadata": {},
   "outputs": [],
   "source": [
    "# @Zaigham: Code goes here\n",
    "\n"
   ]
  },
  {
   "cell_type": "markdown",
   "id": "35f4818b",
   "metadata": {},
   "source": [
    "## References"
   ]
  },
  {
   "cell_type": "markdown",
   "id": "23758ff6",
   "metadata": {},
   "source": [
    "+ https://towardsdatascience.com/optimization-with-scipy-and-application-ideas-to-machine-learning-81d39c7938b8\n",
    "+ https://github.com/mbilalzafar/fair-classification/tree/master/disparate_impact\n",
    "+ https://www.propublica.org/datastore/dataset/compas-recidivism-risk-score-data-and-analysis"
   ]
  }
 ],
 "metadata": {
  "kernelspec": {
   "display_name": "Python 3 (ipykernel)",
   "language": "python",
   "name": "python3"
  },
  "language_info": {
   "codemirror_mode": {
    "name": "ipython",
    "version": 3
   },
   "file_extension": ".py",
   "mimetype": "text/x-python",
   "name": "python",
   "nbconvert_exporter": "python",
   "pygments_lexer": "ipython3",
   "version": "3.10.2"
  }
 },
 "nbformat": 4,
 "nbformat_minor": 5
}
